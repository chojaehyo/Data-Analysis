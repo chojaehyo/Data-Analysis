{
 "cells": [
  {
   "cell_type": "markdown",
   "id": "b430b18b",
   "metadata": {},
   "source": [
    "### Numpy 성능 비교"
   ]
  },
  {
   "cell_type": "code",
   "execution_count": 1,
   "id": "1952c68c",
   "metadata": {},
   "outputs": [],
   "source": [
    "import numpy as np"
   ]
  },
  {
   "cell_type": "code",
   "execution_count": 3,
   "id": "909b749c",
   "metadata": {},
   "outputs": [],
   "source": [
    "my_list = list(range(1000000))"
   ]
  },
  {
   "cell_type": "markdown",
   "id": "c2499ec3",
   "metadata": {},
   "source": [
    "#### - 매직 명령어 확인하기"
   ]
  },
  {
   "cell_type": "code",
   "execution_count": 4,
   "id": "57604b85",
   "metadata": {},
   "outputs": [],
   "source": [
    "%magic"
   ]
  },
  {
   "cell_type": "markdown",
   "id": "8e0afe0e",
   "metadata": {},
   "source": [
    "#### - %time: 명령어가 실행되는데 걸리는 시간 반환"
   ]
  },
  {
   "cell_type": "markdown",
   "id": "353b6b7d",
   "metadata": {},
   "source": [
    "#### - %time 뒤에 for문을 추가하면 해당 횟수만큼 반복 후 평균 시간 반환해준다."
   ]
  },
  {
   "cell_type": "code",
   "execution_count": 9,
   "id": "ce71d8fe",
   "metadata": {},
   "outputs": [
    {
     "name": "stdout",
     "output_type": "stream",
     "text": [
      "Wall time: 1.3 s\n"
     ]
    }
   ],
   "source": [
    "%time for _ in range(10): my_list2 = [x * 2 for x in my_list]"
   ]
  },
  {
   "cell_type": "code",
   "execution_count": 10,
   "id": "7ddab764",
   "metadata": {},
   "outputs": [],
   "source": [
    "my_arr = np.arange(1000000)"
   ]
  },
  {
   "cell_type": "code",
   "execution_count": 11,
   "id": "27fad329",
   "metadata": {},
   "outputs": [
    {
     "data": {
      "text/plain": [
       "numpy.ndarray"
      ]
     },
     "execution_count": 11,
     "metadata": {},
     "output_type": "execute_result"
    }
   ],
   "source": [
    "type(my_arr) # ndarray: n-dimensional array, n차원 배열"
   ]
  },
  {
   "cell_type": "markdown",
   "id": "70cf2d55",
   "metadata": {},
   "source": [
    "#### - numpy는 브로드캐스팅이 가능(아래처럼 상수값을 곱해주면 크기가 자동으로 브로드캐스팅되서 연산이 된다.)"
   ]
  },
  {
   "cell_type": "code",
   "execution_count": 13,
   "id": "808dd403",
   "metadata": {},
   "outputs": [
    {
     "name": "stdout",
     "output_type": "stream",
     "text": [
      "Wall time: 32 ms\n"
     ]
    }
   ],
   "source": [
    "%time for _ in range(10): my_arr * 2"
   ]
  },
  {
   "cell_type": "markdown",
   "id": "eaf5efbe",
   "metadata": {},
   "source": [
    "### 1. Numpy ndarray(다차원 배열 객체)"
   ]
  },
  {
   "cell_type": "markdown",
   "id": "4e255794",
   "metadata": {},
   "source": [
    "#### - np.random.randn(행, 열) : 표준 정규분포를 따르는 랜덤값 생성"
   ]
  },
  {
   "cell_type": "code",
   "execution_count": 14,
   "id": "e3e5e69e",
   "metadata": {},
   "outputs": [
    {
     "data": {
      "text/plain": [
       "array([[ 3.48157103,  0.77581371, -0.23955768],\n",
       "       [-0.5012058 , -0.34951226,  0.77484553]])"
      ]
     },
     "execution_count": 14,
     "metadata": {},
     "output_type": "execute_result"
    }
   ],
   "source": [
    "data = np.random.randn(2, 3)\n",
    "data"
   ]
  },
  {
   "cell_type": "code",
   "execution_count": 15,
   "id": "52b8f36b",
   "metadata": {},
   "outputs": [
    {
     "data": {
      "text/plain": [
       "numpy.ndarray"
      ]
     },
     "execution_count": 15,
     "metadata": {},
     "output_type": "execute_result"
    }
   ],
   "source": [
    "type(data)"
   ]
  },
  {
   "cell_type": "code",
   "execution_count": 16,
   "id": "bfee2925",
   "metadata": {},
   "outputs": [
    {
     "data": {
      "text/plain": [
       "(2, 3)"
      ]
     },
     "execution_count": 16,
     "metadata": {},
     "output_type": "execute_result"
    }
   ],
   "source": [
    "data.shape"
   ]
  },
  {
   "cell_type": "code",
   "execution_count": 17,
   "id": "5e0d8588",
   "metadata": {},
   "outputs": [
    {
     "data": {
      "text/plain": [
       "array([[34.81571027,  7.75813706, -2.39557681],\n",
       "       [-5.01205799, -3.4951226 ,  7.74845534]])"
      ]
     },
     "execution_count": 17,
     "metadata": {},
     "output_type": "execute_result"
    }
   ],
   "source": [
    "data * 10"
   ]
  },
  {
   "cell_type": "code",
   "execution_count": 18,
   "id": "238a717a",
   "metadata": {},
   "outputs": [
    {
     "data": {
      "text/plain": [
       "array([[ 6.96314205,  1.55162741, -0.47911536],\n",
       "       [-1.0024116 , -0.69902452,  1.54969107]])"
      ]
     },
     "execution_count": 18,
     "metadata": {},
     "output_type": "execute_result"
    }
   ],
   "source": [
    "data + data"
   ]
  },
  {
   "cell_type": "markdown",
   "id": "a3a198b7",
   "metadata": {},
   "source": [
    "#### - data.dtype: data의 내부 값 타입이 무엇인지 알려줌"
   ]
  },
  {
   "cell_type": "code",
   "execution_count": 19,
   "id": "e8490270",
   "metadata": {},
   "outputs": [
    {
     "data": {
      "text/plain": [
       "dtype('float64')"
      ]
     },
     "execution_count": 19,
     "metadata": {},
     "output_type": "execute_result"
    }
   ],
   "source": [
    "data.dtype "
   ]
  },
  {
   "cell_type": "markdown",
   "id": "7a9eb41b",
   "metadata": {},
   "source": [
    "### 1.1 ndarray 생성하기"
   ]
  },
  {
   "cell_type": "code",
   "execution_count": 22,
   "id": "45833430",
   "metadata": {},
   "outputs": [
    {
     "data": {
      "text/plain": [
       "array([6. , 7.5, 8. , 0. , 1. ])"
      ]
     },
     "execution_count": 22,
     "metadata": {},
     "output_type": "execute_result"
    }
   ],
   "source": [
    "data1 = [6, 7.5, 8, 0, 1]\n",
    "arr1 = np.array(data1)\n",
    "arr1"
   ]
  },
  {
   "cell_type": "code",
   "execution_count": 23,
   "id": "1fe6afa0",
   "metadata": {},
   "outputs": [
    {
     "data": {
      "text/plain": [
       "numpy.ndarray"
      ]
     },
     "execution_count": 23,
     "metadata": {},
     "output_type": "execute_result"
    }
   ],
   "source": [
    "type(arr1)"
   ]
  },
  {
   "cell_type": "code",
   "execution_count": 24,
   "id": "3b7589eb",
   "metadata": {},
   "outputs": [
    {
     "data": {
      "text/plain": [
       "array([[1, 2, 3, 4],\n",
       "       [5, 6, 7, 8]])"
      ]
     },
     "execution_count": 24,
     "metadata": {},
     "output_type": "execute_result"
    }
   ],
   "source": [
    "data2 = [[1, 2, 3, 4], [5, 6, 7, 8]]\n",
    "arr2 = np.array(data2)\n",
    "arr2"
   ]
  },
  {
   "cell_type": "markdown",
   "id": "6ef9c295",
   "metadata": {},
   "source": [
    "#### - 원소가 5개인 1차원 배열 객체"
   ]
  },
  {
   "cell_type": "code",
   "execution_count": 26,
   "id": "3c4140ef",
   "metadata": {},
   "outputs": [
    {
     "data": {
      "text/plain": [
       "(5,)"
      ]
     },
     "execution_count": 26,
     "metadata": {},
     "output_type": "execute_result"
    }
   ],
   "source": [
    "arr1.shape"
   ]
  },
  {
   "cell_type": "code",
   "execution_count": 28,
   "id": "627fc280",
   "metadata": {},
   "outputs": [
    {
     "data": {
      "text/plain": [
       "1"
      ]
     },
     "execution_count": 28,
     "metadata": {},
     "output_type": "execute_result"
    }
   ],
   "source": [
    "arr1.ndim"
   ]
  },
  {
   "cell_type": "code",
   "execution_count": 30,
   "id": "04617f61",
   "metadata": {},
   "outputs": [
    {
     "data": {
      "text/plain": [
       "dtype('float64')"
      ]
     },
     "execution_count": 30,
     "metadata": {},
     "output_type": "execute_result"
    }
   ],
   "source": [
    "arr1.dtype"
   ]
  },
  {
   "cell_type": "markdown",
   "id": "19b1091a",
   "metadata": {},
   "source": [
    "#### - 원소가 8개인 2차원 배열 객체, 2x4행렬"
   ]
  },
  {
   "cell_type": "code",
   "execution_count": 27,
   "id": "dcf17711",
   "metadata": {},
   "outputs": [
    {
     "data": {
      "text/plain": [
       "(2, 4)"
      ]
     },
     "execution_count": 27,
     "metadata": {},
     "output_type": "execute_result"
    }
   ],
   "source": [
    "arr2.shape"
   ]
  },
  {
   "cell_type": "code",
   "execution_count": 29,
   "id": "63ac6b7d",
   "metadata": {},
   "outputs": [
    {
     "data": {
      "text/plain": [
       "2"
      ]
     },
     "execution_count": 29,
     "metadata": {},
     "output_type": "execute_result"
    }
   ],
   "source": [
    "arr2.ndim"
   ]
  },
  {
   "cell_type": "code",
   "execution_count": 31,
   "id": "67de2002",
   "metadata": {},
   "outputs": [
    {
     "data": {
      "text/plain": [
       "dtype('int32')"
      ]
     },
     "execution_count": 31,
     "metadata": {},
     "output_type": "execute_result"
    }
   ],
   "source": [
    "arr2.dtype"
   ]
  },
  {
   "cell_type": "markdown",
   "id": "e676955b",
   "metadata": {},
   "source": [
    "#### - np.zeros(개수 or (행, 열)): 0으로 초기화된 배열 생성"
   ]
  },
  {
   "cell_type": "code",
   "execution_count": 32,
   "id": "17a6d4c0",
   "metadata": {},
   "outputs": [
    {
     "data": {
      "text/plain": [
       "array([0., 0., 0., 0., 0., 0., 0., 0., 0., 0.])"
      ]
     },
     "execution_count": 32,
     "metadata": {},
     "output_type": "execute_result"
    }
   ],
   "source": [
    "np.zeros(10)"
   ]
  },
  {
   "cell_type": "code",
   "execution_count": 35,
   "id": "60fb5f9a",
   "metadata": {},
   "outputs": [
    {
     "data": {
      "text/plain": [
       "array([[0., 0., 0., 0., 0., 0.],\n",
       "       [0., 0., 0., 0., 0., 0.],\n",
       "       [0., 0., 0., 0., 0., 0.]])"
      ]
     },
     "execution_count": 35,
     "metadata": {},
     "output_type": "execute_result"
    }
   ],
   "source": [
    "np.zeros((3, 6))"
   ]
  },
  {
   "cell_type": "markdown",
   "id": "7cdb6377",
   "metadata": {},
   "source": [
    "#### - np.ones(개수 or (행, 열)): 1로 초기화된 배열 생성"
   ]
  },
  {
   "cell_type": "code",
   "execution_count": 33,
   "id": "041c1b0d",
   "metadata": {},
   "outputs": [
    {
     "data": {
      "text/plain": [
       "array([1., 1., 1., 1., 1., 1., 1., 1., 1., 1.])"
      ]
     },
     "execution_count": 33,
     "metadata": {},
     "output_type": "execute_result"
    }
   ],
   "source": [
    "np.ones(10)"
   ]
  },
  {
   "cell_type": "code",
   "execution_count": 36,
   "id": "6747b0d9",
   "metadata": {},
   "outputs": [
    {
     "data": {
      "text/plain": [
       "array([[1., 1., 1., 1., 1., 1.],\n",
       "       [1., 1., 1., 1., 1., 1.],\n",
       "       [1., 1., 1., 1., 1., 1.]])"
      ]
     },
     "execution_count": 36,
     "metadata": {},
     "output_type": "execute_result"
    }
   ],
   "source": [
    "np.ones((3, 6))"
   ]
  },
  {
   "cell_type": "markdown",
   "id": "e47dc049",
   "metadata": {},
   "source": [
    "#### - np.empty((shape)): shape만큼 가비지값 들어간 배열 생성"
   ]
  },
  {
   "cell_type": "code",
   "execution_count": 38,
   "id": "6a9dabb4",
   "metadata": {},
   "outputs": [
    {
     "data": {
      "text/plain": [
       "array([[[6.23042070e-307, 4.67296746e-307, 1.69121096e-306,\n",
       "         7.56598449e-307],\n",
       "        [1.78019082e-306, 1.33511018e-306, 1.33511969e-306,\n",
       "         6.23037996e-307],\n",
       "        [6.23053954e-307, 9.34609790e-307, 8.45593934e-307,\n",
       "         9.34600963e-307]],\n",
       "\n",
       "       [[1.60220528e-306, 1.78021119e-306, 1.37962117e-306,\n",
       "         1.78020169e-306],\n",
       "        [1.37961641e-306, 1.86919649e-306, 1.42417221e-306,\n",
       "         1.60219306e-306],\n",
       "        [6.89811941e-307, 6.23059386e-307, 9.34609111e-307,\n",
       "         2.56765117e-312]]])"
      ]
     },
     "execution_count": 38,
     "metadata": {},
     "output_type": "execute_result"
    }
   ],
   "source": [
    "np.empty((2, 3, 4)) # 3차원"
   ]
  },
  {
   "cell_type": "code",
   "execution_count": 39,
   "id": "294ad36e",
   "metadata": {},
   "outputs": [
    {
     "data": {
      "text/plain": [
       "array([ 0,  1,  2,  3,  4,  5,  6,  7,  8,  9, 10, 11, 12, 13, 14])"
      ]
     },
     "execution_count": 39,
     "metadata": {},
     "output_type": "execute_result"
    }
   ],
   "source": [
    "np.arange(15)"
   ]
  },
  {
   "cell_type": "markdown",
   "id": "00b57055",
   "metadata": {},
   "source": [
    "### 1.2 ndarray의 dtype"
   ]
  },
  {
   "cell_type": "code",
   "execution_count": 41,
   "id": "2bc619e1",
   "metadata": {},
   "outputs": [
    {
     "data": {
      "text/plain": [
       "array([1., 2., 3.])"
      ]
     },
     "execution_count": 41,
     "metadata": {},
     "output_type": "execute_result"
    }
   ],
   "source": [
    "arr1 = np.array([1, 2, 3], dtype=np.float64)\n",
    "arr1"
   ]
  },
  {
   "cell_type": "code",
   "execution_count": 44,
   "id": "ec69aa20",
   "metadata": {},
   "outputs": [
    {
     "data": {
      "text/plain": [
       "dtype('float64')"
      ]
     },
     "execution_count": 44,
     "metadata": {},
     "output_type": "execute_result"
    }
   ],
   "source": [
    "arr1.dtype"
   ]
  },
  {
   "cell_type": "code",
   "execution_count": 45,
   "id": "beb0b1a2",
   "metadata": {},
   "outputs": [
    {
     "data": {
      "text/plain": [
       "array([1, 2, 3])"
      ]
     },
     "execution_count": 45,
     "metadata": {},
     "output_type": "execute_result"
    }
   ],
   "source": [
    "arr2 = np.array([1, 2, 3], dtype=np.int32)\n",
    "arr2"
   ]
  },
  {
   "cell_type": "code",
   "execution_count": 46,
   "id": "ad1509c8",
   "metadata": {},
   "outputs": [
    {
     "data": {
      "text/plain": [
       "dtype('int32')"
      ]
     },
     "execution_count": 46,
     "metadata": {},
     "output_type": "execute_result"
    }
   ],
   "source": [
    "arr2.dtype"
   ]
  },
  {
   "cell_type": "code",
   "execution_count": 47,
   "id": "12b4a9d0",
   "metadata": {},
   "outputs": [
    {
     "data": {
      "text/plain": [
       "dtype('int32')"
      ]
     },
     "execution_count": 47,
     "metadata": {},
     "output_type": "execute_result"
    }
   ],
   "source": [
    "arr = np.array([1, 2, 3, 4, 5])\n",
    "arr.dtype"
   ]
  },
  {
   "cell_type": "markdown",
   "id": "37afb5b5",
   "metadata": {},
   "source": [
    "#### - arr.astype(데이터타입): arr를 지정한 데이터 타입으로 바꿔줌"
   ]
  },
  {
   "cell_type": "code",
   "execution_count": 49,
   "id": "010409c9",
   "metadata": {},
   "outputs": [
    {
     "data": {
      "text/plain": [
       "dtype('float64')"
      ]
     },
     "execution_count": 49,
     "metadata": {},
     "output_type": "execute_result"
    }
   ],
   "source": [
    "float_arr = arr.astype(np.float64)\n",
    "float_arr.dtype"
   ]
  },
  {
   "cell_type": "code",
   "execution_count": 50,
   "id": "2ce1beab",
   "metadata": {},
   "outputs": [
    {
     "data": {
      "text/plain": [
       "array([ 3.7, -1.2, -2.6,  0.5, 12.9, 10.1])"
      ]
     },
     "execution_count": 50,
     "metadata": {},
     "output_type": "execute_result"
    }
   ],
   "source": [
    "arr = np.array([3.7, -1.2, -2.6, 0.5, 12.9, 10.1])\n",
    "arr"
   ]
  },
  {
   "cell_type": "code",
   "execution_count": 51,
   "id": "5fa755c0",
   "metadata": {},
   "outputs": [
    {
     "data": {
      "text/plain": [
       "dtype('float64')"
      ]
     },
     "execution_count": 51,
     "metadata": {},
     "output_type": "execute_result"
    }
   ],
   "source": [
    "arr.dtype"
   ]
  },
  {
   "cell_type": "markdown",
   "id": "c83d4020",
   "metadata": {},
   "source": [
    "#### - float타입을 int타입으로 변환하면 데이터 손실이 일어남"
   ]
  },
  {
   "cell_type": "code",
   "execution_count": 52,
   "id": "bc27f161",
   "metadata": {},
   "outputs": [
    {
     "data": {
      "text/plain": [
       "array([ 3, -1, -2,  0, 12, 10])"
      ]
     },
     "execution_count": 52,
     "metadata": {},
     "output_type": "execute_result"
    }
   ],
   "source": [
    "arr.astype(np.int32)"
   ]
  },
  {
   "cell_type": "code",
   "execution_count": 53,
   "id": "a6e8a5b7",
   "metadata": {},
   "outputs": [
    {
     "data": {
      "text/plain": [
       "array([ 1.25, -9.6 , 42.  ])"
      ]
     },
     "execution_count": 53,
     "metadata": {},
     "output_type": "execute_result"
    }
   ],
   "source": [
    "numeric_strings = np.array(['1.25', '-9.6', '42'], dtype=np.string_)\n",
    "numeric_strings.astype(float)"
   ]
  },
  {
   "cell_type": "code",
   "execution_count": 54,
   "id": "1b25704c",
   "metadata": {},
   "outputs": [
    {
     "data": {
      "text/plain": [
       "dtype('float64')"
      ]
     },
     "execution_count": 54,
     "metadata": {},
     "output_type": "execute_result"
    }
   ],
   "source": [
    "numeric_strings.astype(float).dtype"
   ]
  },
  {
   "cell_type": "markdown",
   "id": "969a3d42",
   "metadata": {},
   "source": [
    "#### - 현재객체.astype(다른객체.dtype): 현재 객체의 데이터타입을 다른 객체의 데이터타입으로 바꿀 때"
   ]
  },
  {
   "cell_type": "code",
   "execution_count": 55,
   "id": "5d51eb4f",
   "metadata": {},
   "outputs": [
    {
     "data": {
      "text/plain": [
       "array([0., 1., 2., 3., 4., 5., 6., 7., 8., 9.])"
      ]
     },
     "execution_count": 55,
     "metadata": {},
     "output_type": "execute_result"
    }
   ],
   "source": [
    "int_array = np.arange(10)\n",
    "calibers = np.array([.22, .270, .357, .380, .44, .50], dtype=np.float64)\n",
    "int_array.astype(calibers.dtype)"
   ]
  },
  {
   "cell_type": "code",
   "execution_count": 60,
   "id": "7584a9a0",
   "metadata": {},
   "outputs": [
    {
     "name": "stdout",
     "output_type": "stream",
     "text": [
      "[  0   1   0   0 880   0 768 192]\n",
      "[       1        1        0        0      880        0 16777984      604]\n"
     ]
    }
   ],
   "source": [
    "# 둘은 같은 방법\n",
    "empty_uint32_1 = np.empty(8, dtype='u4')\n",
    "empty_uint32_2 = np.empty(8, dtype=np.uint32)\n",
    "print(empty_uint32_1)\n",
    "print(empty_uint32_2)"
   ]
  },
  {
   "cell_type": "markdown",
   "id": "1058df20",
   "metadata": {},
   "source": [
    "### 1.3 Numpy 배열의 산술연산"
   ]
  },
  {
   "cell_type": "code",
   "execution_count": 61,
   "id": "6b78449d",
   "metadata": {},
   "outputs": [
    {
     "data": {
      "text/plain": [
       "array([[1., 2., 3.],\n",
       "       [4., 5., 6.]])"
      ]
     },
     "execution_count": 61,
     "metadata": {},
     "output_type": "execute_result"
    }
   ],
   "source": [
    "arr = np.array([[1., 2., 3.], [4., 5., 6.]])\n",
    "arr"
   ]
  },
  {
   "cell_type": "markdown",
   "id": "5aa7291e",
   "metadata": {},
   "source": [
    "#### - 여기서 *는 행렬의 곱셈이 아니라 같은 위치 값 곱하는 연산"
   ]
  },
  {
   "cell_type": "code",
   "execution_count": 62,
   "id": "3152f545",
   "metadata": {},
   "outputs": [
    {
     "data": {
      "text/plain": [
       "array([[ 1.,  4.,  9.],\n",
       "       [16., 25., 36.]])"
      ]
     },
     "execution_count": 62,
     "metadata": {},
     "output_type": "execute_result"
    }
   ],
   "source": [
    "arr * arr"
   ]
  },
  {
   "cell_type": "code",
   "execution_count": 63,
   "id": "066cd39f",
   "metadata": {},
   "outputs": [
    {
     "data": {
      "text/plain": [
       "array([[0., 0., 0.],\n",
       "       [0., 0., 0.]])"
      ]
     },
     "execution_count": 63,
     "metadata": {},
     "output_type": "execute_result"
    }
   ],
   "source": [
    "arr - arr"
   ]
  },
  {
   "cell_type": "code",
   "execution_count": 64,
   "id": "31676cf5",
   "metadata": {},
   "outputs": [
    {
     "data": {
      "text/plain": [
       "array([[1.        , 0.5       , 0.33333333],\n",
       "       [0.25      , 0.2       , 0.16666667]])"
      ]
     },
     "execution_count": 64,
     "metadata": {},
     "output_type": "execute_result"
    }
   ],
   "source": [
    "1/arr"
   ]
  },
  {
   "cell_type": "code",
   "execution_count": 65,
   "id": "8947cc96",
   "metadata": {},
   "outputs": [
    {
     "data": {
      "text/plain": [
       "array([[ 1.,  4.,  9.],\n",
       "       [16., 25., 36.]])"
      ]
     },
     "execution_count": 65,
     "metadata": {},
     "output_type": "execute_result"
    }
   ],
   "source": [
    "arr ** 2"
   ]
  },
  {
   "cell_type": "code",
   "execution_count": 66,
   "id": "2429e5b6",
   "metadata": {},
   "outputs": [
    {
     "data": {
      "text/plain": [
       "array([[1.        , 1.41421356, 1.73205081],\n",
       "       [2.        , 2.23606798, 2.44948974]])"
      ]
     },
     "execution_count": 66,
     "metadata": {},
     "output_type": "execute_result"
    }
   ],
   "source": [
    "arr ** 0.5"
   ]
  },
  {
   "cell_type": "code",
   "execution_count": 67,
   "id": "3c85cc66",
   "metadata": {},
   "outputs": [
    {
     "data": {
      "text/plain": [
       "array([[ 0.,  4.,  1.],\n",
       "       [ 7.,  2., 12.]])"
      ]
     },
     "execution_count": 67,
     "metadata": {},
     "output_type": "execute_result"
    }
   ],
   "source": [
    "arr2 = np.array([[0., 4., 1.], [7., 2., 12.]])\n",
    "arr2"
   ]
  },
  {
   "cell_type": "markdown",
   "id": "7f6c8f8b",
   "metadata": {},
   "source": [
    "#### - 두 ndarray의 비교는 각 자리의 값을 비교해 True, False로 결과를 반환"
   ]
  },
  {
   "cell_type": "code",
   "execution_count": 68,
   "id": "3e04a709",
   "metadata": {},
   "outputs": [
    {
     "data": {
      "text/plain": [
       "array([[False,  True, False],\n",
       "       [ True, False,  True]])"
      ]
     },
     "execution_count": 68,
     "metadata": {},
     "output_type": "execute_result"
    }
   ],
   "source": [
    "arr2 > arr"
   ]
  },
  {
   "cell_type": "markdown",
   "id": "0082dd14",
   "metadata": {},
   "source": [
    "### 1.4 색인과 슬라이싱 기초"
   ]
  },
  {
   "cell_type": "code",
   "execution_count": 71,
   "id": "611a0d9d",
   "metadata": {},
   "outputs": [
    {
     "data": {
      "text/plain": [
       "array([0, 1, 2, 3, 4, 5, 6, 7, 8, 9])"
      ]
     },
     "execution_count": 71,
     "metadata": {},
     "output_type": "execute_result"
    }
   ],
   "source": [
    "arr = np.arange(10)\n",
    "arr"
   ]
  },
  {
   "cell_type": "code",
   "execution_count": 73,
   "id": "afdffa76",
   "metadata": {},
   "outputs": [
    {
     "data": {
      "text/plain": [
       "5"
      ]
     },
     "execution_count": 73,
     "metadata": {},
     "output_type": "execute_result"
    }
   ],
   "source": [
    "arr[5]"
   ]
  },
  {
   "cell_type": "code",
   "execution_count": 74,
   "id": "2de770e7",
   "metadata": {},
   "outputs": [
    {
     "data": {
      "text/plain": [
       "array([5, 6, 7])"
      ]
     },
     "execution_count": 74,
     "metadata": {},
     "output_type": "execute_result"
    }
   ],
   "source": [
    "arr[5:8]"
   ]
  },
  {
   "cell_type": "markdown",
   "id": "3680cb0b",
   "metadata": {},
   "source": [
    "#### - 배열을 슬라이싱 후 값을 넣으면 해당 위치의 값이 모두 바뀜(넘파이에서는 슬라이싱한 개수와 넣어줄 개수 같지 않아도 가능)"
   ]
  },
  {
   "cell_type": "code",
   "execution_count": 76,
   "id": "be1e4f22",
   "metadata": {},
   "outputs": [
    {
     "data": {
      "text/plain": [
       "array([ 0,  1,  2,  3,  4, 12, 12, 12,  8,  9])"
      ]
     },
     "execution_count": 76,
     "metadata": {},
     "output_type": "execute_result"
    }
   ],
   "source": [
    "arr[5:8] = 12\n",
    "arr"
   ]
  },
  {
   "cell_type": "code",
   "execution_count": 78,
   "id": "99dda303",
   "metadata": {},
   "outputs": [
    {
     "data": {
      "text/plain": [
       "array([0, 1, 2, 3, 4, 5, 6, 7, 8, 9])"
      ]
     },
     "execution_count": 78,
     "metadata": {},
     "output_type": "execute_result"
    }
   ],
   "source": [
    "arr = np.arange(10)\n",
    "arr"
   ]
  },
  {
   "cell_type": "markdown",
   "id": "511bf8f7",
   "metadata": {},
   "source": [
    "#### - brr = arr[5:8]을 할 때 copy한 거라고 생각할 수 있는데 실제로는 주소를 공유함, 따라서 arr[5:8]값을 바꾸고 brr을 다시 출력하면 값이 바껴있음"
   ]
  },
  {
   "cell_type": "code",
   "execution_count": 79,
   "id": "4466b60d",
   "metadata": {},
   "outputs": [
    {
     "data": {
      "text/plain": [
       "array([5, 6, 7])"
      ]
     },
     "execution_count": 79,
     "metadata": {},
     "output_type": "execute_result"
    }
   ],
   "source": [
    "brr = arr[5:8]\n",
    "brr"
   ]
  },
  {
   "cell_type": "code",
   "execution_count": 80,
   "id": "b760e25f",
   "metadata": {},
   "outputs": [
    {
     "data": {
      "text/plain": [
       "array([ 0,  1,  2,  3,  4, 12, 12, 12,  8,  9])"
      ]
     },
     "execution_count": 80,
     "metadata": {},
     "output_type": "execute_result"
    }
   ],
   "source": [
    "arr[5:8] = 12\n",
    "arr"
   ]
  },
  {
   "cell_type": "code",
   "execution_count": 81,
   "id": "802c824c",
   "metadata": {},
   "outputs": [
    {
     "data": {
      "text/plain": [
       "array([12, 12, 12])"
      ]
     },
     "execution_count": 81,
     "metadata": {},
     "output_type": "execute_result"
    }
   ],
   "source": [
    "brr"
   ]
  },
  {
   "cell_type": "markdown",
   "id": "e6032f69",
   "metadata": {},
   "source": [
    "#### - 파이썬과 비교"
   ]
  },
  {
   "cell_type": "markdown",
   "id": "b36102b0",
   "metadata": {},
   "source": [
    "#### 1) 파이썬은 슬라이싱한 개수와 넣어줄 값의 개수를 맞춰야함"
   ]
  },
  {
   "cell_type": "code",
   "execution_count": 83,
   "id": "0f428812",
   "metadata": {},
   "outputs": [
    {
     "data": {
      "text/plain": [
       "[1, 2, 3, 12, 12, 6, 7]"
      ]
     },
     "execution_count": 83,
     "metadata": {},
     "output_type": "execute_result"
    }
   ],
   "source": [
    "a = [1, 2, 3, 4, 5, 6, 7]\n",
    "a[3:5] = [12, 12] # 파이썬의 개수 맞춰줘야함\n",
    "a"
   ]
  },
  {
   "cell_type": "markdown",
   "id": "dba2a8c6",
   "metadata": {},
   "source": [
    "#### 2) 슬라이싱한 부분을 변수에 넣고 a자체를 바꿔도 변수가 갖고있는 값은 바뀌지 않음"
   ]
  },
  {
   "cell_type": "code",
   "execution_count": 84,
   "id": "62523c90",
   "metadata": {},
   "outputs": [
    {
     "data": {
      "text/plain": [
       "[0, 1, 2, 3, 4, 5, 6, 7, 8, 9]"
      ]
     },
     "execution_count": 84,
     "metadata": {},
     "output_type": "execute_result"
    }
   ],
   "source": [
    "a = list(range(10))\n",
    "a"
   ]
  },
  {
   "cell_type": "code",
   "execution_count": 85,
   "id": "69973879",
   "metadata": {},
   "outputs": [
    {
     "data": {
      "text/plain": [
       "[5, 6, 7]"
      ]
     },
     "execution_count": 85,
     "metadata": {},
     "output_type": "execute_result"
    }
   ],
   "source": [
    "b = a[5:8]\n",
    "b"
   ]
  },
  {
   "cell_type": "code",
   "execution_count": 86,
   "id": "97e139a0",
   "metadata": {},
   "outputs": [
    {
     "data": {
      "text/plain": [
       "[0, 1, 2, 3, 4, 12, 12, 12, 8, 9]"
      ]
     },
     "execution_count": 86,
     "metadata": {},
     "output_type": "execute_result"
    }
   ],
   "source": [
    "a[5:8] = [12, 12 ,12]\n",
    "a"
   ]
  },
  {
   "cell_type": "code",
   "execution_count": 87,
   "id": "d553b2fd",
   "metadata": {},
   "outputs": [
    {
     "data": {
      "text/plain": [
       "[5, 6, 7]"
      ]
     },
     "execution_count": 87,
     "metadata": {},
     "output_type": "execute_result"
    }
   ],
   "source": [
    "b"
   ]
  },
  {
   "cell_type": "markdown",
   "id": "e5985551",
   "metadata": {},
   "source": [
    "-------------------------------------------------------------------------------------------------------------------------------------"
   ]
  },
  {
   "cell_type": "markdown",
   "id": "a9eb1799",
   "metadata": {},
   "source": [
    "#### - ndarray에서는 원본 데이터를 바꾸면 슬라이싱을 저장한 부분도 바뀌고, 반대로의 경우에도 바뀜"
   ]
  },
  {
   "cell_type": "code",
   "execution_count": 88,
   "id": "e60f1f0c",
   "metadata": {},
   "outputs": [
    {
     "data": {
      "text/plain": [
       "array([ 0,  1,  2,  3,  4, 12, 12, 12,  8,  9])"
      ]
     },
     "execution_count": 88,
     "metadata": {},
     "output_type": "execute_result"
    }
   ],
   "source": [
    "arr"
   ]
  },
  {
   "cell_type": "code",
   "execution_count": 89,
   "id": "27e6c817",
   "metadata": {},
   "outputs": [
    {
     "data": {
      "text/plain": [
       "array([12, 12, 12])"
      ]
     },
     "execution_count": 89,
     "metadata": {},
     "output_type": "execute_result"
    }
   ],
   "source": [
    "arr_slice = arr[5:8]\n",
    "arr_slice"
   ]
  },
  {
   "cell_type": "code",
   "execution_count": 90,
   "id": "0fbd6768",
   "metadata": {},
   "outputs": [
    {
     "data": {
      "text/plain": [
       "array([   12, 12345,    12])"
      ]
     },
     "execution_count": 90,
     "metadata": {},
     "output_type": "execute_result"
    }
   ],
   "source": [
    "arr_slice[1] = 12345\n",
    "arr_slice"
   ]
  },
  {
   "cell_type": "code",
   "execution_count": 91,
   "id": "de946ce5",
   "metadata": {},
   "outputs": [
    {
     "data": {
      "text/plain": [
       "array([    0,     1,     2,     3,     4,    12, 12345,    12,     8,\n",
       "           9])"
      ]
     },
     "execution_count": 91,
     "metadata": {},
     "output_type": "execute_result"
    }
   ],
   "source": [
    "arr"
   ]
  },
  {
   "cell_type": "code",
   "execution_count": 92,
   "id": "0fb9a029",
   "metadata": {},
   "outputs": [
    {
     "data": {
      "text/plain": [
       "array([64, 64, 64])"
      ]
     },
     "execution_count": 92,
     "metadata": {},
     "output_type": "execute_result"
    }
   ],
   "source": [
    "arr_slice[:] = 64\n",
    "arr_slice"
   ]
  },
  {
   "cell_type": "code",
   "execution_count": 93,
   "id": "2d0ac693",
   "metadata": {},
   "outputs": [
    {
     "data": {
      "text/plain": [
       "array([ 0,  1,  2,  3,  4, 64, 64, 64,  8,  9])"
      ]
     },
     "execution_count": 93,
     "metadata": {},
     "output_type": "execute_result"
    }
   ],
   "source": [
    "arr"
   ]
  },
  {
   "cell_type": "code",
   "execution_count": 156,
   "id": "e1a58dea",
   "metadata": {},
   "outputs": [
    {
     "data": {
      "text/plain": [
       "array([[1, 2, 3],\n",
       "       [4, 5, 6],\n",
       "       [7, 8, 9]])"
      ]
     },
     "execution_count": 156,
     "metadata": {},
     "output_type": "execute_result"
    }
   ],
   "source": [
    "arr2d = np.array([[1, 2, 3], [4, 5, 6], [7, 8, 9]])\n",
    "arr2d"
   ]
  },
  {
   "cell_type": "code",
   "execution_count": 95,
   "id": "88d1348b",
   "metadata": {},
   "outputs": [
    {
     "data": {
      "text/plain": [
       "(3, 3)"
      ]
     },
     "execution_count": 95,
     "metadata": {},
     "output_type": "execute_result"
    }
   ],
   "source": [
    "arr2d.shape"
   ]
  },
  {
   "cell_type": "code",
   "execution_count": 96,
   "id": "5fd2203c",
   "metadata": {},
   "outputs": [
    {
     "data": {
      "text/plain": [
       "2"
      ]
     },
     "execution_count": 96,
     "metadata": {},
     "output_type": "execute_result"
    }
   ],
   "source": [
    "arr2d.ndim"
   ]
  },
  {
   "cell_type": "markdown",
   "id": "e36b70aa",
   "metadata": {},
   "source": [
    "#### - ndarray의 인덱싱, ([0][0]은 [0, 0]과 같음)"
   ]
  },
  {
   "cell_type": "code",
   "execution_count": 97,
   "id": "681e1b3c",
   "metadata": {},
   "outputs": [
    {
     "data": {
      "text/plain": [
       "array([7, 8, 9])"
      ]
     },
     "execution_count": 97,
     "metadata": {},
     "output_type": "execute_result"
    }
   ],
   "source": [
    "arr2d[2]"
   ]
  },
  {
   "cell_type": "code",
   "execution_count": 98,
   "id": "d62dbb3c",
   "metadata": {},
   "outputs": [
    {
     "data": {
      "text/plain": [
       "3"
      ]
     },
     "execution_count": 98,
     "metadata": {},
     "output_type": "execute_result"
    }
   ],
   "source": [
    "arr2d[0][2]"
   ]
  },
  {
   "cell_type": "code",
   "execution_count": 99,
   "id": "5036c5da",
   "metadata": {},
   "outputs": [
    {
     "data": {
      "text/plain": [
       "3"
      ]
     },
     "execution_count": 99,
     "metadata": {},
     "output_type": "execute_result"
    }
   ],
   "source": [
    "arr2d[0, 2]"
   ]
  },
  {
   "cell_type": "code",
   "execution_count": 103,
   "id": "b768ed83",
   "metadata": {},
   "outputs": [
    {
     "data": {
      "text/plain": [
       "array([[[ 1,  2,  3],\n",
       "        [ 4,  5,  6]],\n",
       "\n",
       "       [[ 7,  8,  9],\n",
       "        [10, 11, 12]]])"
      ]
     },
     "execution_count": 103,
     "metadata": {},
     "output_type": "execute_result"
    }
   ],
   "source": [
    "arr3d = np.array([[[1, 2, 3], [4, 5, 6]], [[7, 8, 9], [10, 11, 12]]])\n",
    "arr3d"
   ]
  },
  {
   "cell_type": "code",
   "execution_count": 104,
   "id": "ff00e767",
   "metadata": {},
   "outputs": [
    {
     "data": {
      "text/plain": [
       "(2, 2, 3)"
      ]
     },
     "execution_count": 104,
     "metadata": {},
     "output_type": "execute_result"
    }
   ],
   "source": [
    "arr3d.shape"
   ]
  },
  {
   "cell_type": "markdown",
   "id": "77c79363",
   "metadata": {},
   "source": [
    "#### - 3차원 ndarray를 한번 색인하면 --> 2차원 ndarray 반환"
   ]
  },
  {
   "cell_type": "code",
   "execution_count": 109,
   "id": "ecae6a88",
   "metadata": {},
   "outputs": [
    {
     "data": {
      "text/plain": [
       "array([[1, 2, 3],\n",
       "       [4, 5, 6]])"
      ]
     },
     "execution_count": 109,
     "metadata": {},
     "output_type": "execute_result"
    }
   ],
   "source": [
    "arr3d[0]"
   ]
  },
  {
   "cell_type": "code",
   "execution_count": 115,
   "id": "dd6b27d8",
   "metadata": {},
   "outputs": [
    {
     "data": {
      "text/plain": [
       "2"
      ]
     },
     "execution_count": 115,
     "metadata": {},
     "output_type": "execute_result"
    }
   ],
   "source": [
    "arr3d[0].ndim"
   ]
  },
  {
   "cell_type": "markdown",
   "id": "9540655b",
   "metadata": {},
   "source": [
    "#### - 3차원 ndarray를 두번 색인하면 --> 1차원 ndarray 반환"
   ]
  },
  {
   "cell_type": "code",
   "execution_count": 106,
   "id": "a221b1b4",
   "metadata": {},
   "outputs": [
    {
     "data": {
      "text/plain": [
       "array([4, 5, 6])"
      ]
     },
     "execution_count": 106,
     "metadata": {},
     "output_type": "execute_result"
    }
   ],
   "source": [
    "arr3d[0][1]"
   ]
  },
  {
   "cell_type": "code",
   "execution_count": 114,
   "id": "b6b1cb2b",
   "metadata": {},
   "outputs": [
    {
     "data": {
      "text/plain": [
       "1"
      ]
     },
     "execution_count": 114,
     "metadata": {},
     "output_type": "execute_result"
    }
   ],
   "source": [
    "arr3d[0][1].ndim"
   ]
  },
  {
   "cell_type": "markdown",
   "id": "73ed2990",
   "metadata": {},
   "source": [
    "#### - 3차원 ndarray를 세번 색인하면 --> 하나의 값 반환"
   ]
  },
  {
   "cell_type": "code",
   "execution_count": 111,
   "id": "3cf97a5e",
   "metadata": {},
   "outputs": [
    {
     "data": {
      "text/plain": [
       "6"
      ]
     },
     "execution_count": 111,
     "metadata": {},
     "output_type": "execute_result"
    }
   ],
   "source": [
    "arr3d[0][1][2]"
   ]
  },
  {
   "cell_type": "code",
   "execution_count": 118,
   "id": "688966cf",
   "metadata": {},
   "outputs": [
    {
     "data": {
      "text/plain": [
       "6"
      ]
     },
     "execution_count": 118,
     "metadata": {},
     "output_type": "execute_result"
    }
   ],
   "source": [
    "arr3d[0, 1, 2]"
   ]
  },
  {
   "cell_type": "code",
   "execution_count": 116,
   "id": "5389b75f",
   "metadata": {},
   "outputs": [
    {
     "data": {
      "text/plain": [
       "0"
      ]
     },
     "execution_count": 116,
     "metadata": {},
     "output_type": "execute_result"
    }
   ],
   "source": [
    "arr3d[0][1][2].ndim"
   ]
  },
  {
   "cell_type": "code",
   "execution_count": 117,
   "id": "9b417a1c",
   "metadata": {},
   "outputs": [
    {
     "data": {
      "text/plain": [
       "numpy.int32"
      ]
     },
     "execution_count": 117,
     "metadata": {},
     "output_type": "execute_result"
    }
   ],
   "source": [
    "type(arr3d[0][1][2])"
   ]
  },
  {
   "cell_type": "code",
   "execution_count": 119,
   "id": "b737a142",
   "metadata": {},
   "outputs": [
    {
     "data": {
      "text/plain": [
       "array([[[ 1,  2,  3],\n",
       "        [ 4,  5,  6]],\n",
       "\n",
       "       [[ 7,  8,  9],\n",
       "        [10, 11, 12]]])"
      ]
     },
     "execution_count": 119,
     "metadata": {},
     "output_type": "execute_result"
    }
   ],
   "source": [
    "arr3d"
   ]
  },
  {
   "cell_type": "code",
   "execution_count": 120,
   "id": "9570f377",
   "metadata": {},
   "outputs": [
    {
     "data": {
      "text/plain": [
       "array([[1, 2, 3],\n",
       "       [4, 5, 6]])"
      ]
     },
     "execution_count": 120,
     "metadata": {},
     "output_type": "execute_result"
    }
   ],
   "source": [
    "arr3d[0]"
   ]
  },
  {
   "cell_type": "markdown",
   "id": "4d277332",
   "metadata": {},
   "source": [
    "#### - .copy() 쓰면 주소 공유 아니라 값 자체를 복사"
   ]
  },
  {
   "cell_type": "code",
   "execution_count": 121,
   "id": "64f2f98a",
   "metadata": {},
   "outputs": [],
   "source": [
    "old_values = arr3d[0].copy()"
   ]
  },
  {
   "cell_type": "markdown",
   "id": "e53c7e64",
   "metadata": {},
   "source": [
    "#### - arr3d[0] = 42하면 자동으로 브로드캐스팅되서 모든 값에 42가 들어감"
   ]
  },
  {
   "cell_type": "code",
   "execution_count": 122,
   "id": "01e8e99f",
   "metadata": {},
   "outputs": [],
   "source": [
    "arr3d[0] = 42"
   ]
  },
  {
   "cell_type": "code",
   "execution_count": 123,
   "id": "776e4f2b",
   "metadata": {},
   "outputs": [
    {
     "data": {
      "text/plain": [
       "array([[[42, 42, 42],\n",
       "        [42, 42, 42]],\n",
       "\n",
       "       [[ 7,  8,  9],\n",
       "        [10, 11, 12]]])"
      ]
     },
     "execution_count": 123,
     "metadata": {},
     "output_type": "execute_result"
    }
   ],
   "source": [
    "arr3d"
   ]
  },
  {
   "cell_type": "code",
   "execution_count": 126,
   "id": "0ab6a441",
   "metadata": {},
   "outputs": [
    {
     "data": {
      "text/plain": [
       "array([[1, 2, 3],\n",
       "       [4, 5, 6]])"
      ]
     },
     "execution_count": 126,
     "metadata": {},
     "output_type": "execute_result"
    }
   ],
   "source": [
    "old_values"
   ]
  },
  {
   "cell_type": "code",
   "execution_count": 128,
   "id": "7dd8c826",
   "metadata": {},
   "outputs": [
    {
     "data": {
      "text/plain": [
       "array([[[ 1,  2,  3],\n",
       "        [ 4,  5,  6]],\n",
       "\n",
       "       [[ 7,  8,  9],\n",
       "        [10, 11, 12]]])"
      ]
     },
     "execution_count": 128,
     "metadata": {},
     "output_type": "execute_result"
    }
   ],
   "source": [
    "arr3d[0] = old_values\n",
    "arr3d"
   ]
  },
  {
   "cell_type": "code",
   "execution_count": 129,
   "id": "6ee1068c",
   "metadata": {},
   "outputs": [
    {
     "data": {
      "text/plain": [
       "array([7, 8, 9])"
      ]
     },
     "execution_count": 129,
     "metadata": {},
     "output_type": "execute_result"
    }
   ],
   "source": [
    "arr3d[1, 0]"
   ]
  },
  {
   "cell_type": "code",
   "execution_count": 130,
   "id": "a23b6513",
   "metadata": {},
   "outputs": [
    {
     "data": {
      "text/plain": [
       "array([[ 7,  8,  9],\n",
       "       [10, 11, 12]])"
      ]
     },
     "execution_count": 130,
     "metadata": {},
     "output_type": "execute_result"
    }
   ],
   "source": [
    "x = arr3d[1]\n",
    "x"
   ]
  },
  {
   "cell_type": "code",
   "execution_count": 131,
   "id": "6d4c23dd",
   "metadata": {},
   "outputs": [
    {
     "data": {
      "text/plain": [
       "array([7, 8, 9])"
      ]
     },
     "execution_count": 131,
     "metadata": {},
     "output_type": "execute_result"
    }
   ],
   "source": [
    "x[0]"
   ]
  },
  {
   "cell_type": "markdown",
   "id": "474b9f26",
   "metadata": {},
   "source": [
    "#### - 슬라이스 선택하기, arr[행, 열]"
   ]
  },
  {
   "cell_type": "code",
   "execution_count": 132,
   "id": "f770ffca",
   "metadata": {},
   "outputs": [
    {
     "data": {
      "text/plain": [
       "array([ 0,  1,  2,  3,  4, 64, 64, 64,  8,  9])"
      ]
     },
     "execution_count": 132,
     "metadata": {},
     "output_type": "execute_result"
    }
   ],
   "source": [
    "arr"
   ]
  },
  {
   "cell_type": "code",
   "execution_count": 133,
   "id": "0356c8a6",
   "metadata": {},
   "outputs": [
    {
     "data": {
      "text/plain": [
       "array([ 1,  2,  3,  4, 64])"
      ]
     },
     "execution_count": 133,
     "metadata": {},
     "output_type": "execute_result"
    }
   ],
   "source": [
    "arr[1:6]"
   ]
  },
  {
   "cell_type": "code",
   "execution_count": 134,
   "id": "87493c88",
   "metadata": {},
   "outputs": [
    {
     "data": {
      "text/plain": [
       "array([[1, 2, 3],\n",
       "       [4, 5, 6],\n",
       "       [7, 8, 9]])"
      ]
     },
     "execution_count": 134,
     "metadata": {},
     "output_type": "execute_result"
    }
   ],
   "source": [
    "arr2d"
   ]
  },
  {
   "cell_type": "markdown",
   "id": "6fe2bc04",
   "metadata": {},
   "source": [
    "#### - arr2d[:] : arr2d[0]과 arr2d[1]을 가져와라"
   ]
  },
  {
   "cell_type": "code",
   "execution_count": 135,
   "id": "e7af9e6b",
   "metadata": {},
   "outputs": [
    {
     "data": {
      "text/plain": [
       "array([[1, 2, 3],\n",
       "       [4, 5, 6]])"
      ]
     },
     "execution_count": 135,
     "metadata": {},
     "output_type": "execute_result"
    }
   ],
   "source": [
    "arr2d[:2]"
   ]
  },
  {
   "cell_type": "code",
   "execution_count": 138,
   "id": "dc441c72",
   "metadata": {},
   "outputs": [
    {
     "data": {
      "text/plain": [
       "array([[2, 3],\n",
       "       [5, 6]])"
      ]
     },
     "execution_count": 138,
     "metadata": {},
     "output_type": "execute_result"
    }
   ],
   "source": [
    "arr2d[:2, 1:]"
   ]
  },
  {
   "cell_type": "code",
   "execution_count": 148,
   "id": "306646d4",
   "metadata": {},
   "outputs": [
    {
     "data": {
      "text/plain": [
       "2"
      ]
     },
     "execution_count": 148,
     "metadata": {},
     "output_type": "execute_result"
    }
   ],
   "source": [
    "arr2d[:2, 1:].ndim"
   ]
  },
  {
   "cell_type": "markdown",
   "id": "fa72aa46",
   "metadata": {},
   "source": [
    "#### * 여기서는 일단 arr2d[:2]를 하고 난 후에 거기서 [1:]까지 출력한 것이므로 다음과 같이 나옴 ======================================"
   ]
  },
  {
   "cell_type": "markdown",
   "id": "78e6ae1a",
   "metadata": {},
   "source": [
    "#### * 정수를 색인할 때는 [][]와 [ , ]를 같이 사용할 수 있지만 numpy에서 슬라이싱은 [:, :]과 같이 콤마로 연결해주기!"
   ]
  },
  {
   "cell_type": "code",
   "execution_count": 145,
   "id": "4d1aebb9",
   "metadata": {},
   "outputs": [
    {
     "data": {
      "text/plain": [
       "array([[4, 5, 6]])"
      ]
     },
     "execution_count": 145,
     "metadata": {},
     "output_type": "execute_result"
    }
   ],
   "source": [
    "arr2d[:2][1:]"
   ]
  },
  {
   "cell_type": "code",
   "execution_count": 149,
   "id": "4f6dafd2",
   "metadata": {},
   "outputs": [
    {
     "data": {
      "text/plain": [
       "array([[1, 2, 3],\n",
       "       [4, 5, 6]])"
      ]
     },
     "execution_count": 149,
     "metadata": {},
     "output_type": "execute_result"
    }
   ],
   "source": [
    "tmp = arr2d[:2]\n",
    "tmp"
   ]
  },
  {
   "cell_type": "code",
   "execution_count": 150,
   "id": "c6838770",
   "metadata": {},
   "outputs": [
    {
     "data": {
      "text/plain": [
       "array([[4, 5, 6]])"
      ]
     },
     "execution_count": 150,
     "metadata": {},
     "output_type": "execute_result"
    }
   ],
   "source": [
    "tmp[1:]"
   ]
  },
  {
   "cell_type": "code",
   "execution_count": 142,
   "id": "bbaea316",
   "metadata": {},
   "outputs": [
    {
     "data": {
      "text/plain": [
       "array([4, 5])"
      ]
     },
     "execution_count": 142,
     "metadata": {},
     "output_type": "execute_result"
    }
   ],
   "source": [
    "arr2d[1][:2]"
   ]
  },
  {
   "cell_type": "markdown",
   "id": "69b44919",
   "metadata": {},
   "source": [
    "#### * 슬라이싱 시 하나를 정수로 지정하면 차원이 줄어든다."
   ]
  },
  {
   "cell_type": "code",
   "execution_count": 151,
   "id": "574c0fe9",
   "metadata": {},
   "outputs": [
    {
     "data": {
      "text/plain": [
       "1"
      ]
     },
     "execution_count": 151,
     "metadata": {},
     "output_type": "execute_result"
    }
   ],
   "source": [
    "arr2d[1][:2].ndim"
   ]
  },
  {
   "cell_type": "code",
   "execution_count": 143,
   "id": "d0e29e6e",
   "metadata": {},
   "outputs": [
    {
     "data": {
      "text/plain": [
       "array([4, 5])"
      ]
     },
     "execution_count": 143,
     "metadata": {},
     "output_type": "execute_result"
    }
   ],
   "source": [
    "arr2d[1, :2]"
   ]
  },
  {
   "cell_type": "code",
   "execution_count": 152,
   "id": "63c14bd9",
   "metadata": {},
   "outputs": [
    {
     "data": {
      "text/plain": [
       "1"
      ]
     },
     "execution_count": 152,
     "metadata": {},
     "output_type": "execute_result"
    }
   ],
   "source": [
    "arr2d[1, :2].ndim"
   ]
  },
  {
   "cell_type": "code",
   "execution_count": 146,
   "id": "cc5c2b87",
   "metadata": {},
   "outputs": [
    {
     "data": {
      "text/plain": [
       "array([3, 6])"
      ]
     },
     "execution_count": 146,
     "metadata": {},
     "output_type": "execute_result"
    }
   ],
   "source": [
    "arr2d[:2, 2]"
   ]
  },
  {
   "cell_type": "code",
   "execution_count": 147,
   "id": "2704cb13",
   "metadata": {},
   "outputs": [
    {
     "data": {
      "text/plain": [
       "1"
      ]
     },
     "execution_count": 147,
     "metadata": {},
     "output_type": "execute_result"
    }
   ],
   "source": [
    "arr2d[:2, 2].ndim"
   ]
  },
  {
   "cell_type": "markdown",
   "id": "a02021ef",
   "metadata": {},
   "source": [
    "================================================================================================================"
   ]
  },
  {
   "cell_type": "code",
   "execution_count": 157,
   "id": "3a68a508",
   "metadata": {},
   "outputs": [
    {
     "data": {
      "text/plain": [
       "array([[1, 0, 0],\n",
       "       [4, 0, 0],\n",
       "       [7, 8, 9]])"
      ]
     },
     "execution_count": 157,
     "metadata": {},
     "output_type": "execute_result"
    }
   ],
   "source": [
    "arr2d[:2, 1:] = 0\n",
    "arr2d"
   ]
  },
  {
   "cell_type": "markdown",
   "id": "d7a5dfe5",
   "metadata": {},
   "source": [
    "### png 이미지를 사용해서 슬라이싱 연습"
   ]
  },
  {
   "cell_type": "markdown",
   "id": "7a4dd9b8",
   "metadata": {},
   "source": [
    "#### - 현재 디렉토리에 png파일 있는지 확인"
   ]
  },
  {
   "cell_type": "code",
   "execution_count": 159,
   "id": "5055b34d",
   "metadata": {},
   "outputs": [
    {
     "name": "stdout",
     "output_type": "stream",
     "text": [
      " C 드라이브의 볼륨에는 이름이 없습니다.\n",
      " 볼륨 일련 번호: B4D9-1690\n",
      "\n",
      " C:\\Users\\Playdata\\Documents 디렉터리\n",
      "\n",
      "2021-07-21  오후 05:31           182,704 psj.png\n",
      "               1개 파일             182,704 바이트\n",
      "               0개 디렉터리  182,575,837,184 바이트 남음\n"
     ]
    }
   ],
   "source": [
    "!dir psj.png"
   ]
  },
  {
   "cell_type": "code",
   "execution_count": 160,
   "id": "4f3a6f25",
   "metadata": {},
   "outputs": [],
   "source": [
    "import matplotlib.pyplot as plt"
   ]
  },
  {
   "cell_type": "markdown",
   "id": "d322b844",
   "metadata": {},
   "source": [
    "#### - 해당 png파일 읽어서 변수에 저장"
   ]
  },
  {
   "cell_type": "code",
   "execution_count": 162,
   "id": "5d1458f2",
   "metadata": {},
   "outputs": [],
   "source": [
    "img = plt.imread('psj.png')"
   ]
  },
  {
   "cell_type": "code",
   "execution_count": 163,
   "id": "11e09247",
   "metadata": {},
   "outputs": [
    {
     "data": {
      "text/plain": [
       "(333, 365, 4)"
      ]
     },
     "execution_count": 163,
     "metadata": {},
     "output_type": "execute_result"
    }
   ],
   "source": [
    "img.shape"
   ]
  },
  {
   "cell_type": "code",
   "execution_count": 164,
   "id": "4ee06743",
   "metadata": {},
   "outputs": [
    {
     "data": {
      "text/plain": [
       "numpy.ndarray"
      ]
     },
     "execution_count": 164,
     "metadata": {},
     "output_type": "execute_result"
    }
   ],
   "source": [
    "type(img)"
   ]
  },
  {
   "cell_type": "code",
   "execution_count": 165,
   "id": "9d850ab9",
   "metadata": {},
   "outputs": [
    {
     "data": {
      "text/plain": [
       "dtype('float32')"
      ]
     },
     "execution_count": 165,
     "metadata": {},
     "output_type": "execute_result"
    }
   ],
   "source": [
    "img.dtype"
   ]
  },
  {
   "cell_type": "markdown",
   "id": "e6603d05",
   "metadata": {},
   "source": [
    "#### - img[0][0][0] 값이 0~1 사이의 값인 이유는 255로 나눴기 때문"
   ]
  },
  {
   "cell_type": "code",
   "execution_count": 166,
   "id": "4c53fd62",
   "metadata": {},
   "outputs": [
    {
     "data": {
      "text/plain": [
       "0.83137256"
      ]
     },
     "execution_count": 166,
     "metadata": {},
     "output_type": "execute_result"
    }
   ],
   "source": [
    "img[0][0][0]"
   ]
  },
  {
   "cell_type": "markdown",
   "id": "fcddc71d",
   "metadata": {},
   "source": [
    "#### - plt.imshow(ndarray값): 이미지 보기"
   ]
  },
  {
   "cell_type": "code",
   "execution_count": 167,
   "id": "51cfbe4f",
   "metadata": {},
   "outputs": [
    {
     "data": {
      "text/plain": [
       "<matplotlib.image.AxesImage at 0x25c3aaba6a0>"
      ]
     },
     "execution_count": 167,
     "metadata": {},
     "output_type": "execute_result"
    },
    {
     "data": {
      "image/png": "[encoded data removed]",
      "text/plain": [
       "<Figure size 432x288 with 1 Axes>"
      ]
     },
     "metadata": {
      "needs_background": "light"
     },
     "output_type": "display_data"
    }
   ],
   "source": [
    "plt.imshow(img)"
   ]
  },
  {
   "cell_type": "markdown",
   "id": "87b7b9fa",
   "metadata": {},
   "source": [
    "#### - 흑백은 0~255, 0: 검은색, 255: 흰색으로 표현 가능"
   ]
  },
  {
   "cell_type": "markdown",
   "id": "a88f0c4b",
   "metadata": {},
   "source": [
    "#### - 컬러는 한 픽셀을 표현하기 위해 4장의 채널이 필요함, 1~3은 R, G, B채널이고 4번째 채널은 알파채널(투명도) "
   ]
  },
  {
   "cell_type": "markdown",
   "id": "2f3c5f9c",
   "metadata": {},
   "source": [
    "#### - 현재 사진이 컬러라서 img.shape 했을 때 마지막 값이 4임"
   ]
  },
  {
   "cell_type": "code",
   "execution_count": 168,
   "id": "1c83e9af",
   "metadata": {},
   "outputs": [
    {
     "data": {
      "text/plain": [
       "(333, 365, 4)"
      ]
     },
     "execution_count": 168,
     "metadata": {},
     "output_type": "execute_result"
    }
   ],
   "source": [
    "img.shape"
   ]
  },
  {
   "cell_type": "markdown",
   "id": "1f3d1469",
   "metadata": {},
   "source": [
    "#### - img[0][0]: 여기서 나온 4가지 값은 처음부터 R, G, B, alpha값 이다."
   ]
  },
  {
   "cell_type": "code",
   "execution_count": 170,
   "id": "8910c705",
   "metadata": {},
   "outputs": [
    {
     "data": {
      "text/plain": [
       "array([0.83137256, 0.8509804 , 0.8666667 , 1.        ], dtype=float32)"
      ]
     },
     "execution_count": 170,
     "metadata": {},
     "output_type": "execute_result"
    }
   ],
   "source": [
    "img[0][0]"
   ]
  },
  {
   "cell_type": "markdown",
   "id": "d40867ea",
   "metadata": {},
   "source": [
    "#### - 좌측 상단의 R채널 픽셀값(광도)"
   ]
  },
  {
   "cell_type": "code",
   "execution_count": 171,
   "id": "2dc94587",
   "metadata": {},
   "outputs": [
    {
     "data": {
      "text/plain": [
       "0.83137256"
      ]
     },
     "execution_count": 171,
     "metadata": {},
     "output_type": "execute_result"
    }
   ],
   "source": [
    "img[0][0][0]"
   ]
  },
  {
   "cell_type": "markdown",
   "id": "db280798",
   "metadata": {},
   "source": [
    "#### - 좌측 상단의 G채널 픽셀값(광도)"
   ]
  },
  {
   "cell_type": "code",
   "execution_count": 173,
   "id": "3ffd902c",
   "metadata": {},
   "outputs": [
    {
     "data": {
      "text/plain": [
       "0.8509804"
      ]
     },
     "execution_count": 173,
     "metadata": {},
     "output_type": "execute_result"
    }
   ],
   "source": [
    "img[0][0][1]"
   ]
  },
  {
   "cell_type": "markdown",
   "id": "6096fc14",
   "metadata": {},
   "source": [
    "#### - 좌측 상단의 B채널 픽셀값(광도)"
   ]
  },
  {
   "cell_type": "code",
   "execution_count": 174,
   "id": "3a77276f",
   "metadata": {},
   "outputs": [
    {
     "data": {
      "text/plain": [
       "0.8666667"
      ]
     },
     "execution_count": 174,
     "metadata": {},
     "output_type": "execute_result"
    }
   ],
   "source": [
    "img[0][0][2]"
   ]
  },
  {
   "cell_type": "markdown",
   "id": "35930769",
   "metadata": {},
   "source": [
    "#### - 아래와 같이 실행하면 좌측 상단의 픽셀 하나가 빨간색으로 바뀜(그림 작아서 안보이지만)"
   ]
  },
  {
   "cell_type": "code",
   "execution_count": 175,
   "id": "fe2438f5",
   "metadata": {},
   "outputs": [],
   "source": [
    "img[0][0][0] = 1\n",
    "img[0][0][1] = 0\n",
    "img[0][0][2] = 0"
   ]
  },
  {
   "cell_type": "code",
   "execution_count": 176,
   "id": "f984a18d",
   "metadata": {},
   "outputs": [
    {
     "data": {
      "text/plain": [
       "<matplotlib.image.AxesImage at 0x25c3b41d970>"
      ]
     },
     "execution_count": 176,
     "metadata": {},
     "output_type": "execute_result"
    },
    {
     "data": {
      "image/png": "[encoded data removed]",
      "text/plain": [
       "<Figure size 432x288 with 1 Axes>"
      ]
     },
     "metadata": {
      "needs_background": "light"
     },
     "output_type": "display_data"
    }
   ],
   "source": [
    "plt.imshow(img)"
   ]
  },
  {
   "cell_type": "code",
   "execution_count": 177,
   "id": "85e30e35",
   "metadata": {},
   "outputs": [
    {
     "data": {
      "text/plain": [
       "<matplotlib.image.AxesImage at 0x25c3b662a90>"
      ]
     },
     "execution_count": 177,
     "metadata": {},
     "output_type": "execute_result"
    },
    {
     "data": {
      "image/png": "[encoded data removed]",
      "text/plain": [
       "<Figure size 432x288 with 1 Axes>"
      ]
     },
     "metadata": {
      "needs_background": "light"
     },
     "output_type": "display_data"
    }
   ],
   "source": [
    "img[0:10, 0:10, 0] = 1\n",
    "img[0:10, 0:10, 1] = 0\n",
    "img[0:10, 0:10, 2] = 0\n",
    "plt.imshow(img)"
   ]
  },
  {
   "cell_type": "code",
   "execution_count": 193,
   "id": "0863a90a",
   "metadata": {},
   "outputs": [
    {
     "data": {
      "text/plain": [
       "<matplotlib.image.AxesImage at 0x25c414350d0>"
      ]
     },
     "execution_count": 193,
     "metadata": {},
     "output_type": "execute_result"
    },
    {
     "data": {
      "image/png": "[encoded data removed]",
      "text/plain": [
       "<Figure size 432x288 with 1 Axes>"
      ]
     },
     "metadata": {
      "needs_background": "light"
     },
     "output_type": "display_data"
    }
   ],
   "source": [
    "R, G, B = 0.5, 0, 0.8\n",
    "# 위쪽\n",
    "img[0:10, :, 0] = R\n",
    "img[0:10, :, 1] = G\n",
    "img[0:10, :, 2] = B\n",
    "\n",
    "# 왼쪽\n",
    "img[:, 0:10, 0] = R\n",
    "img[:, 0:10, 1] = G\n",
    "img[:, 0:10, 2] = B\n",
    "\n",
    "# 오른쪽\n",
    "img[:, -10:, 0] = R\n",
    "img[:, -10:, 1] = G\n",
    "img[:, -10:, 2] = B\n",
    "\n",
    "#아래쪽\n",
    "img[-10:, :, 0] = R\n",
    "img[-10:, :, 1] = G\n",
    "img[-10:, :, 2] = B\n",
    "plt.imshow(img)"
   ]
  },
  {
   "cell_type": "code",
   "execution_count": null,
   "id": "aaa1c074",
   "metadata": {},
   "outputs": [],
   "source": []
  }
 ],
 "metadata": {
  "kernelspec": {
   "display_name": "Python 3",
   "language": "python",
   "name": "python3"
  },
  "language_info": {
   "codemirror_mode": {
    "name": "ipython",
    "version": 3
   },
   "file_extension": ".py",
   "mimetype": "text/x-python",
   "name": "python",
   "nbconvert_exporter": "python",
   "pygments_lexer": "ipython3",
   "version": "3.8.8"
  }
 },
 "nbformat": 4,
 "nbformat_minor": 5
}
