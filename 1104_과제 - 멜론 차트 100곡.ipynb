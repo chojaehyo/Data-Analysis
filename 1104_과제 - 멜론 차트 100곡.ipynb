{
 "cells": [
  {
   "cell_type": "markdown",
   "id": "ca122a1e-8359-438b-9ae6-a8c1d87a1fee",
   "metadata": {},
   "source": [
    "### 멜론 차트에서 1~100위 곡의 가사 텍스트 파일로 저장하기"
   ]
  },
  {
   "cell_type": "code",
   "execution_count": 53,
   "id": "928994b7-37b7-44de-9818-92b9d878a148",
   "metadata": {},
   "outputs": [],
   "source": [
    "import requests\n",
    "from bs4 import BeautifulSoup"
   ]
  },
  {
   "cell_type": "code",
   "execution_count": 54,
   "id": "5da1e286-8c44-4a38-9d72-1f5973b082fb",
   "metadata": {},
   "outputs": [],
   "source": [
    "url = \"https://www.melon.com/chart/index.htm\"\n",
    "header = {'User-Agent': 'Mozilla/5.0 (Windows NT 6.3; Trident/7.0; rv:11.0) like Gecko'}\n",
    "\n",
    "r = requests.get(url, headers=header)\n",
    "soup = BeautifulSoup(r.text, \"html.parser\")\n",
    "data = soup.find_all('tr', {'class':'lst50'})\n",
    "data2 = soup.find_all('tr', {'class': 'lst100'})"
   ]
  },
  {
   "cell_type": "code",
   "execution_count": 55,
   "id": "bf7d6292-86a8-47bc-8369-6d584604600c",
   "metadata": {},
   "outputs": [],
   "source": [
    "id1 = [x['data-song-no'] for x in data]\n",
    "id2 = [x['data-song-no'] for x in data2]\n",
    "song_id = id1 + id2"
   ]
  },
  {
   "cell_type": "code",
   "execution_count": 56,
   "id": "713763af-2d85-4133-8ea7-9ef963b39db0",
   "metadata": {},
   "outputs": [
    {
     "data": {
      "text/plain": [
       "(50, 50, 100)"
      ]
     },
     "execution_count": 56,
     "metadata": {},
     "output_type": "execute_result"
    }
   ],
   "source": [
    "len(id1), len(id2), len(song_id)"
   ]
  },
  {
   "cell_type": "code",
   "execution_count": 57,
   "id": "7802e639-aae0-42c1-8634-0474a9ded6c9",
   "metadata": {},
   "outputs": [
    {
     "name": "stdout",
     "output_type": "stream",
     "text": [
      "0 34101563\n",
      "1 34041584\n",
      "2 34061322\n",
      "3 33658563\n",
      "4 33480898\n",
      "5 33496587\n",
      "6 33998510\n",
      "7 33487342\n",
      "8 32698101\n",
      "9 33725775\n",
      "10 33978183\n",
      "11 33666269\n",
      "12 32508053\n",
      "13 33625988\n",
      "14 33507137\n",
      "15 33655994\n",
      "16 34140616\n",
      "17 33359317\n",
      "18 33623210\n",
      "19 33652821\n",
      "20 33337651\n",
      "21 32872978\n",
      "22 33514925\n",
      "23 33503722\n",
      "24 33036660\n",
      "25 33868791\n",
      "26 33606505\n",
      "27 33630420\n",
      "28 33691794\n",
      "29 33372781\n",
      "30 33878014\n",
      "31 33599821\n",
      "32 33239419\n",
      "33 33749109\n",
      "34 33976677\n",
      "35 33805289\n",
      "36 33800786\n",
      "37 33359725\n",
      "38 34153240\n",
      "39 30287019\n",
      "40 34171026\n",
      "41 3414749\n",
      "42 33464805\n",
      "43 33359309\n",
      "44 33589488\n",
      "45 32061975\n",
      "46 33955533\n",
      "47 33618864\n",
      "48 33759183\n",
      "49 32962258\n",
      "50 34153818\n",
      "51 33167063\n",
      "52 33061995\n",
      "53 31254010\n",
      "54 30962526\n",
      "55 33248758\n",
      "56 31737197\n",
      "57 32183386\n",
      "58 33397561\n",
      "59 30244931\n",
      "60 33618271\n",
      "61 33902950\n",
      "62 33999025\n",
      "63 34071973\n",
      "64 32578498\n",
      "65 32961718\n",
      "66 32794652\n",
      "67 31853557\n",
      "68 34153819\n",
      "69 33315511\n",
      "70 33077234\n",
      "71 34190730\n",
      "72 33013877\n",
      "73 33107649\n",
      "74 32224272\n",
      "75 34097306\n",
      "76 32491274\n",
      "77 3894276\n",
      "78 32003395\n",
      "79 1944399\n",
      "80 34140615\n",
      "81 31029291\n",
      "82 5473462\n",
      "83 33372788\n",
      "84 32860397\n",
      "85 34154224\n",
      "86 34140617\n",
      "87 34187867\n",
      "88 34140619\n",
      "89 34186697\n",
      "90 34190821\n",
      "91 33901877\n",
      "92 34018319\n",
      "93 34140620\n",
      "94 34194115\n",
      "95 34140618\n",
      "96 34140621\n",
      "97 33527705\n",
      "98 33594897\n",
      "99 33589260\n"
     ]
    }
   ],
   "source": [
    "for i, id in enumerate(song_id):\n",
    "    print(i, id)\n",
    "    url = \"https://www.melon.com/song/detail.htm?songId={}\".format(id)\n",
    "    r = requests.get(url, headers=header)\n",
    "    soup = BeautifulSoup(r.text, \"html.parser\")\n",
    "    data = soup.find('div', {'class': 'lyric'})\n",
    "    if data == None : continue\n",
    "    data = data.get_text().strip()\n",
    "    #name = soup.find('div', {'class': 'song_name'}).get_text()[5:].strip()\n",
    "    with open (\"./lyrics/{}.txt\".format(id), \"w\", encoding='UTF-8') as f:\n",
    "        f.write(data)"
   ]
  },
  {
   "cell_type": "code",
   "execution_count": null,
   "id": "1f17bdb8-c847-47e5-b0d0-663512f87c6d",
   "metadata": {},
   "outputs": [],
   "source": []
  }
 ],
 "metadata": {
  "kernelspec": {
   "display_name": "Python 3",
   "language": "python",
   "name": "python3"
  },
  "language_info": {
   "codemirror_mode": {
    "name": "ipython",
    "version": 3
   },
   "file_extension": ".py",
   "mimetype": "text/x-python",
   "name": "python",
   "nbconvert_exporter": "python",
   "pygments_lexer": "ipython3",
   "version": "3.8.8"
  }
 },
 "nbformat": 4,
 "nbformat_minor": 5
}
