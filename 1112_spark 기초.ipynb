{
 "cells": [
  {
   "cell_type": "code",
   "execution_count": 1,
   "id": "ca67871e",
   "metadata": {},
   "outputs": [],
   "source": [
    "from pyspark.sql import SparkSession"
   ]
  },
  {
   "cell_type": "code",
   "execution_count": 2,
   "id": "e629d02a",
   "metadata": {},
   "outputs": [],
   "source": [
    "df = spark.read.option(\"inferSchema\", \"true\").option(\"header\", \"true\").csv(\"/mydata/hflight.csv\")"
   ]
  },
  {
   "cell_type": "code",
   "execution_count": 3,
   "id": "aa71d330",
   "metadata": {},
   "outputs": [
    {
     "data": {
      "text/plain": [
       "[Row(Year=2011, Month=1, DayofMonth=1, DayOfWeek=6, DepTime='1400', ArrTime='1500', UniqueCarrier='AA', FlightNum=428, TailNum='N576AA', ActualElapsedTime='60', AirTime='40', ArrDelay='-10', DepDelay='0', Origin='IAH', Dest='DFW', Distance=224, TaxiIn='7', TaxiOut='13', Cancelled=0, CancellationCode=None, Diverted=0),\n",
       " Row(Year=2011, Month=1, DayofMonth=2, DayOfWeek=7, DepTime='1401', ArrTime='1501', UniqueCarrier='AA', FlightNum=428, TailNum='N557AA', ActualElapsedTime='60', AirTime='45', ArrDelay='-9', DepDelay='1', Origin='IAH', Dest='DFW', Distance=224, TaxiIn='6', TaxiOut='9', Cancelled=0, CancellationCode=None, Diverted=0),\n",
       " Row(Year=2011, Month=1, DayofMonth=3, DayOfWeek=1, DepTime='1352', ArrTime='1502', UniqueCarrier='AA', FlightNum=428, TailNum='N541AA', ActualElapsedTime='70', AirTime='48', ArrDelay='-8', DepDelay='-8', Origin='IAH', Dest='DFW', Distance=224, TaxiIn='5', TaxiOut='17', Cancelled=0, CancellationCode=None, Diverted=0)]"
      ]
     },
     "execution_count": 3,
     "metadata": {},
     "output_type": "execute_result"
    }
   ],
   "source": [
    "df.head(3)"
   ]
  },
  {
   "cell_type": "code",
   "execution_count": 5,
   "id": "e4d39b80",
   "metadata": {
    "scrolled": true
   },
   "outputs": [
    {
     "name": "stdout",
     "output_type": "stream",
     "text": [
      "+----+-----+----------+---------+-------+-------+-------------+---------+-------+-----------------+-------+--------+--------+------+----+--------+------+-------+---------+----------------+--------+\n",
      "|Year|Month|DayofMonth|DayOfWeek|DepTime|ArrTime|UniqueCarrier|FlightNum|TailNum|ActualElapsedTime|AirTime|ArrDelay|DepDelay|Origin|Dest|Distance|TaxiIn|TaxiOut|Cancelled|CancellationCode|Diverted|\n",
      "+----+-----+----------+---------+-------+-------+-------------+---------+-------+-----------------+-------+--------+--------+------+----+--------+------+-------+---------+----------------+--------+\n",
      "|2011|    1|         1|        6|   1400|   1500|           AA|      428| N576AA|               60|     40|     -10|       0|   IAH| DFW|     224|     7|     13|        0|            null|       0|\n",
      "|2011|    1|         2|        7|   1401|   1501|           AA|      428| N557AA|               60|     45|      -9|       1|   IAH| DFW|     224|     6|      9|        0|            null|       0|\n",
      "|2011|    1|         3|        1|   1352|   1502|           AA|      428| N541AA|               70|     48|      -8|      -8|   IAH| DFW|     224|     5|     17|        0|            null|       0|\n",
      "+----+-----+----------+---------+-------+-------+-------------+---------+-------+-----------------+-------+--------+--------+------+----+--------+------+-------+---------+----------------+--------+\n",
      "only showing top 3 rows\n",
      "\n"
     ]
    }
   ],
   "source": [
    "df.show(3)"
   ]
  },
  {
   "cell_type": "code",
   "execution_count": 6,
   "id": "79d12c40",
   "metadata": {},
   "outputs": [
    {
     "data": {
      "text/plain": [
       "227496"
      ]
     },
     "execution_count": 6,
     "metadata": {},
     "output_type": "execute_result"
    }
   ],
   "source": [
    "df.count()"
   ]
  },
  {
   "cell_type": "code",
   "execution_count": 7,
   "id": "0d2d03bf",
   "metadata": {},
   "outputs": [],
   "source": [
    "from pyspark.sql.functions import count"
   ]
  },
  {
   "cell_type": "code",
   "execution_count": 9,
   "id": "0b21897e",
   "metadata": {},
   "outputs": [
    {
     "name": "stdout",
     "output_type": "stream",
     "text": [
      "+--------------+\n",
      "|count(TailNum)|\n",
      "+--------------+\n",
      "|        226701|\n",
      "+--------------+\n",
      "\n"
     ]
    }
   ],
   "source": [
    "df.select(count(\"TailNum\")).show()"
   ]
  },
  {
   "cell_type": "code",
   "execution_count": 10,
   "id": "ae3ecbbf",
   "metadata": {},
   "outputs": [
    {
     "name": "stdout",
     "output_type": "stream",
     "text": [
      "root\n",
      " |-- Year: integer (nullable = true)\n",
      " |-- Month: integer (nullable = true)\n",
      " |-- DayofMonth: integer (nullable = true)\n",
      " |-- DayOfWeek: integer (nullable = true)\n",
      " |-- DepTime: string (nullable = true)\n",
      " |-- ArrTime: string (nullable = true)\n",
      " |-- UniqueCarrier: string (nullable = true)\n",
      " |-- FlightNum: integer (nullable = true)\n",
      " |-- TailNum: string (nullable = true)\n",
      " |-- ActualElapsedTime: string (nullable = true)\n",
      " |-- AirTime: string (nullable = true)\n",
      " |-- ArrDelay: string (nullable = true)\n",
      " |-- DepDelay: string (nullable = true)\n",
      " |-- Origin: string (nullable = true)\n",
      " |-- Dest: string (nullable = true)\n",
      " |-- Distance: integer (nullable = true)\n",
      " |-- TaxiIn: string (nullable = true)\n",
      " |-- TaxiOut: string (nullable = true)\n",
      " |-- Cancelled: integer (nullable = true)\n",
      " |-- CancellationCode: string (nullable = true)\n",
      " |-- Diverted: integer (nullable = true)\n",
      "\n"
     ]
    }
   ],
   "source": [
    "df.printSchema()"
   ]
  },
  {
   "cell_type": "code",
   "execution_count": 11,
   "id": "f9d1fde2",
   "metadata": {},
   "outputs": [],
   "source": [
    "from pyspark.sql.functions import min, max"
   ]
  },
  {
   "cell_type": "code",
   "execution_count": 12,
   "id": "1312329b",
   "metadata": {},
   "outputs": [
    {
     "name": "stdout",
     "output_type": "stream",
     "text": [
      "+------------+------------+\n",
      "|max(DepTime)|min(DepTime)|\n",
      "+------------+------------+\n",
      "|          NA|           1|\n",
      "+------------+------------+\n",
      "\n"
     ]
    }
   ],
   "source": [
    "df.select(max('DepTime'), min('DepTime')).show()"
   ]
  },
  {
   "cell_type": "code",
   "execution_count": 13,
   "id": "0bed5353",
   "metadata": {},
   "outputs": [],
   "source": [
    "from pyspark.sql.functions import sum, count, avg, expr, col, when"
   ]
  },
  {
   "cell_type": "code",
   "execution_count": 14,
   "id": "4341815c",
   "metadata": {},
   "outputs": [],
   "source": [
    "rt = df.groupBy(\"Origin\", \"Dest\").agg( avg('DepDelay'), avg('ArrDelay'))"
   ]
  },
  {
   "cell_type": "code",
   "execution_count": 16,
   "id": "938bbfec",
   "metadata": {},
   "outputs": [
    {
     "name": "stdout",
     "output_type": "stream",
     "text": [
      "+------+----+------------------+------------------+\n",
      "|Origin|Dest|     avg(DepDelay)|     avg(ArrDelay)|\n",
      "+------+----+------------------+------------------+\n",
      "|   HOU| PHL| 33.19124423963134|23.541666666666668|\n",
      "|   IAH| LIT| 7.740771812080537| 6.764063811922754|\n",
      "|   IAH| GSP|  9.08272506082725| 9.617359413202934|\n",
      "|   IAH| DEN| 10.37734288864388| 7.441828254847645|\n",
      "|   IAH| TUS| 7.783870967741936| 7.801679586563307|\n",
      "|   IAH| ABQ| 6.703891708967851| 7.928692699490663|\n",
      "|   HOU| LIT|7.4404432132963985| 3.533333333333333|\n",
      "|   IAH| ANC|            24.952|26.080645161290324|\n",
      "|   IAH| SMF| 9.093966369930762|  4.66271018793274|\n",
      "|   HOU| TUL|11.208174904942966| 7.855238095238096|\n",
      "|   HOU| MDW|13.204150579150578|3.8126815101645692|\n",
      "|   HOU| OKC|12.509865824782953| 9.441897233201582|\n",
      "|   IAH| DSM|12.796850393700787|15.951104100946372|\n",
      "|   IAH| DFW| 8.764620938628159| 5.510741008930727|\n",
      "|   IAH| BOS|10.519141531322505| 6.559045956951716|\n",
      "|   HOU| MAF|10.507042253521126| 6.918367346938775|\n",
      "|   IAH| RIC|11.040313549832026|12.301231802911534|\n",
      "|   HOU| BNA|11.395331874544128| 5.394160583941606|\n",
      "|   IAH| CLE| 5.868198874296435|1.0408067542213884|\n",
      "|   HOU| MSY|10.635058330840563| 7.040394973070018|\n",
      "+------+----+------------------+------------------+\n",
      "only showing top 20 rows\n",
      "\n"
     ]
    }
   ],
   "source": [
    "rt.show()"
   ]
  },
  {
   "cell_type": "markdown",
   "id": "491e82fd",
   "metadata": {},
   "source": [
    "### 목적지 공항에 대해 연착 건수를 구하고, 연착 건수가 2000회 이상인 공항을 출력하세요"
   ]
  },
  {
   "cell_type": "code",
   "execution_count": 17,
   "id": "995ca042",
   "metadata": {},
   "outputs": [],
   "source": [
    "from pyspark.sql.types import IntegerType\n",
    "df = df.withColumn(\"DepDelay\", df[\"DepDelay\"].cast(IntegerType()))\n",
    "cnt_cond = lambda x : sum( when(x, 1).otherwise(0))\n",
    "rt = df.groupBy(\"Dest\").agg( cnt_cond(col('DepDelay') > 5).alias(\"result\") )"
   ]
  },
  {
   "cell_type": "code",
   "execution_count": 18,
   "id": "f98d98e4",
   "metadata": {},
   "outputs": [
    {
     "name": "stdout",
     "output_type": "stream",
     "text": [
      "+----+------+\n",
      "|Dest|result|\n",
      "+----+------+\n",
      "| MSY|  2145|\n",
      "| SNA|   441|\n",
      "| GRR|   194|\n",
      "| GSO|   159|\n",
      "| OAK|   348|\n",
      "| DCA|   604|\n",
      "| MLU|    62|\n",
      "| CID|   140|\n",
      "| LEX|   204|\n",
      "| ORF|   186|\n",
      "| CRW|   100|\n",
      "| SAV|   286|\n",
      "| CMH|   336|\n",
      "| MOB|   388|\n",
      "| PNS|   434|\n",
      "| HNL|   163|\n",
      "| SHV|   199|\n",
      "| SJC|   269|\n",
      "| CVG|   380|\n",
      "| LGA|   935|\n",
      "+----+------+\n",
      "only showing top 20 rows\n",
      "\n"
     ]
    }
   ],
   "source": [
    "rt.show()"
   ]
  },
  {
   "cell_type": "code",
   "execution_count": 19,
   "id": "6bf47848",
   "metadata": {},
   "outputs": [],
   "source": [
    "test = rt.toPandas()"
   ]
  },
  {
   "cell_type": "code",
   "execution_count": 20,
   "id": "997db3fd",
   "metadata": {},
   "outputs": [
    {
     "data": {
      "text/html": [
       "<div>\n",
       "<style scoped>\n",
       "    .dataframe tbody tr th:only-of-type {\n",
       "        vertical-align: middle;\n",
       "    }\n",
       "\n",
       "    .dataframe tbody tr th {\n",
       "        vertical-align: top;\n",
       "    }\n",
       "\n",
       "    .dataframe thead th {\n",
       "        text-align: right;\n",
       "    }\n",
       "</style>\n",
       "<table border=\"1\" class=\"dataframe\">\n",
       "  <thead>\n",
       "    <tr style=\"text-align: right;\">\n",
       "      <th></th>\n",
       "      <th>Dest</th>\n",
       "      <th>result</th>\n",
       "    </tr>\n",
       "  </thead>\n",
       "  <tbody>\n",
       "    <tr>\n",
       "      <th>0</th>\n",
       "      <td>MSY</td>\n",
       "      <td>2145</td>\n",
       "    </tr>\n",
       "    <tr>\n",
       "      <th>1</th>\n",
       "      <td>SNA</td>\n",
       "      <td>441</td>\n",
       "    </tr>\n",
       "    <tr>\n",
       "      <th>2</th>\n",
       "      <td>GRR</td>\n",
       "      <td>194</td>\n",
       "    </tr>\n",
       "    <tr>\n",
       "      <th>3</th>\n",
       "      <td>GSO</td>\n",
       "      <td>159</td>\n",
       "    </tr>\n",
       "    <tr>\n",
       "      <th>4</th>\n",
       "      <td>OAK</td>\n",
       "      <td>348</td>\n",
       "    </tr>\n",
       "    <tr>\n",
       "      <th>...</th>\n",
       "      <td>...</td>\n",
       "      <td>...</td>\n",
       "    </tr>\n",
       "    <tr>\n",
       "      <th>111</th>\n",
       "      <td>PHL</td>\n",
       "      <td>942</td>\n",
       "    </tr>\n",
       "    <tr>\n",
       "      <th>112</th>\n",
       "      <td>DSM</td>\n",
       "      <td>230</td>\n",
       "    </tr>\n",
       "    <tr>\n",
       "      <th>113</th>\n",
       "      <td>SAT</td>\n",
       "      <td>1611</td>\n",
       "    </tr>\n",
       "    <tr>\n",
       "      <th>114</th>\n",
       "      <td>SLC</td>\n",
       "      <td>534</td>\n",
       "    </tr>\n",
       "    <tr>\n",
       "      <th>115</th>\n",
       "      <td>ASE</td>\n",
       "      <td>48</td>\n",
       "    </tr>\n",
       "  </tbody>\n",
       "</table>\n",
       "<p>116 rows × 2 columns</p>\n",
       "</div>"
      ],
      "text/plain": [
       "    Dest  result\n",
       "0    MSY    2145\n",
       "1    SNA     441\n",
       "2    GRR     194\n",
       "3    GSO     159\n",
       "4    OAK     348\n",
       "..   ...     ...\n",
       "111  PHL     942\n",
       "112  DSM     230\n",
       "113  SAT    1611\n",
       "114  SLC     534\n",
       "115  ASE      48\n",
       "\n",
       "[116 rows x 2 columns]"
      ]
     },
     "execution_count": 20,
     "metadata": {},
     "output_type": "execute_result"
    }
   ],
   "source": [
    "test"
   ]
  },
  {
   "cell_type": "code",
   "execution_count": null,
   "id": "ce66788a",
   "metadata": {},
   "outputs": [],
   "source": []
  }
 ],
 "metadata": {
  "kernelspec": {
   "display_name": "Python 3",
   "language": "python",
   "name": "python3"
  },
  "language_info": {
   "codemirror_mode": {
    "name": "ipython",
    "version": 3
   },
   "file_extension": ".py",
   "mimetype": "text/x-python",
   "name": "python",
   "nbconvert_exporter": "python",
   "pygments_lexer": "ipython3",
   "version": "3.6.8"
  }
 },
 "nbformat": 4,
 "nbformat_minor": 5
}
